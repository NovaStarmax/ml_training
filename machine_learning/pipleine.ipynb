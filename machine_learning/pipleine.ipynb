{
 "cells": [
  {
   "cell_type": "code",
   "execution_count": 41,
   "metadata": {},
   "outputs": [],
   "source": [
    "import numpy as np\n",
    "import matplotlib.pyplot as plt\n",
    "from sklearn.preprocessing import StandardScaler\n",
    "from sklearn.pipeline import make_pipeline\n",
    "from sklearn.linear_model import SGDClassifier\n",
    "import seaborn as sns\n",
    "from sklearn.compose import make_column_selector, make_column_transformer\n"
   ]
  },
  {
   "cell_type": "code",
   "execution_count": 42,
   "metadata": {},
   "outputs": [
    {
     "data": {
      "text/plain": [
       "<bound method NDFrame.head of      survived  pclass     sex   age  ...  deck  embark_town  alive  alone\n",
       "0           0       3    male  22.0  ...   NaN  Southampton     no  False\n",
       "1           1       1  female  38.0  ...     C    Cherbourg    yes  False\n",
       "2           1       3  female  26.0  ...   NaN  Southampton    yes   True\n",
       "3           1       1  female  35.0  ...     C  Southampton    yes  False\n",
       "4           0       3    male  35.0  ...   NaN  Southampton     no   True\n",
       "..        ...     ...     ...   ...  ...   ...          ...    ...    ...\n",
       "886         0       2    male  27.0  ...   NaN  Southampton     no   True\n",
       "887         1       1  female  19.0  ...     B  Southampton    yes   True\n",
       "888         0       3  female   NaN  ...   NaN  Southampton     no  False\n",
       "889         1       1    male  26.0  ...     C    Cherbourg    yes   True\n",
       "890         0       3    male  32.0  ...   NaN   Queenstown     no   True\n",
       "\n",
       "[891 rows x 15 columns]>"
      ]
     },
     "execution_count": 42,
     "metadata": {},
     "output_type": "execute_result"
    }
   ],
   "source": [
    "titanic = sns.load_dataset('titanic')\n",
    "titanic.head"
   ]
  },
  {
   "cell_type": "code",
   "execution_count": 43,
   "metadata": {},
   "outputs": [],
   "source": [
    "y = titanic['survived']\n",
    "X = titanic.drop('survived', axis=1)"
   ]
  },
  {
   "cell_type": "code",
   "execution_count": 44,
   "metadata": {},
   "outputs": [],
   "source": [
    "numerical_features = ['pclass', 'age', 'fare']\n",
    "categorical_features = ['sex', 'deck', 'alone']"
   ]
  },
  {
   "cell_type": "markdown",
   "metadata": {},
   "source": [
    "ou avec selector"
   ]
  },
  {
   "cell_type": "code",
   "execution_count": 45,
   "metadata": {},
   "outputs": [],
   "source": [
    "numerical_features = make_column_selector(dtype_include=np.number)\n",
    "categorical_features = make_column_selector(dtype_exclude=np.number)"
   ]
  },
  {
   "cell_type": "code",
   "execution_count": 56,
   "metadata": {},
   "outputs": [],
   "source": [
    "from sklearn.impute import SimpleImputer\n",
    "from sklearn.preprocessing import OneHotEncoder, Binarizer"
   ]
  },
  {
   "cell_type": "code",
   "execution_count": 47,
   "metadata": {},
   "outputs": [],
   "source": [
    "numerical_pipeline = make_pipeline(SimpleImputer(), StandardScaler())\n",
    "categorical_pipeline = make_pipeline(SimpleImputer(strategy= 'most_frequent'), OneHotEncoder())"
   ]
  },
  {
   "cell_type": "code",
   "execution_count": 48,
   "metadata": {},
   "outputs": [],
   "source": [
    "preprocessor = make_column_transformer((numerical_pipeline, numerical_features), (categorical_pipeline, categorical_features))"
   ]
  },
  {
   "cell_type": "code",
   "execution_count": 63,
   "metadata": {},
   "outputs": [
    {
     "data": {
      "text/plain": [
       "1.0"
      ]
     },
     "execution_count": 63,
     "metadata": {},
     "output_type": "execute_result"
    }
   ],
   "source": [
    "model = make_pipeline(preprocessor, SGDClassifier())\n",
    "model.fit(X, y)\n",
    "model.score(X, y)"
   ]
  }
 ],
 "metadata": {
  "kernelspec": {
   "display_name": "base",
   "language": "python",
   "name": "python3"
  },
  "language_info": {
   "codemirror_mode": {
    "name": "ipython",
    "version": 3
   },
   "file_extension": ".py",
   "mimetype": "text/x-python",
   "name": "python",
   "nbconvert_exporter": "python",
   "pygments_lexer": "ipython3",
   "version": "3.12.3"
  }
 },
 "nbformat": 4,
 "nbformat_minor": 2
}
