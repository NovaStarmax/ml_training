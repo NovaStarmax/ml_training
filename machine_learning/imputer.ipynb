{
  "cells": [
    {
      "cell_type": "markdown",
      "metadata": {
        "colab_type": "text",
        "id": "Fb9USP_k-rxl"
      },
      "source": [
        "# Imputation avec Sklearn"
      ]
    },
    {
      "cell_type": "code",
      "execution_count": 1,
      "metadata": {
        "colab": {
          "base_uri": "https://localhost:8080/",
          "height": 51
        },
        "colab_type": "code",
        "id": "k0qEyE_h-bOI",
        "outputId": "7d3217ef-69ff-43c7-aa15-176f89c8209e"
      },
      "outputs": [],
      "source": [
        "import numpy as np\n",
        "import matplotlib.pyplot as plt\n",
        "import pandas as pd\n",
        "import seaborn as sns\n",
        "from sklearn.linear_model import SGDClassifier"
      ]
    },
    {
      "cell_type": "markdown",
      "metadata": {
        "colab_type": "text",
        "id": "N-Hu2w2A-z-f"
      },
      "source": [
        "## 1. SimpleImputer"
      ]
    },
    {
      "cell_type": "markdown",
      "metadata": {},
      "source": [
        "Le simple, fait une application en fonction de la stratégie. Ici, on calcul la moyenne des deux colonnes pour remplacer les nan par cette valeure.\n",
        "On à entrainer cet valeurs sur X, cela sera conserver pour le X test.\n",
        "\n",
        "Toujours séparer les imputers en test et train"
      ]
    },
    {
      "cell_type": "code",
      "execution_count": 2,
      "metadata": {
        "colab": {},
        "colab_type": "code",
        "id": "IEOHOX0z-vLg"
      },
      "outputs": [],
      "source": [
        "from sklearn.impute import SimpleImputer"
      ]
    },
    {
      "cell_type": "code",
      "execution_count": 3,
      "metadata": {
        "colab": {
          "base_uri": "https://localhost:8080/",
          "height": 85
        },
        "colab_type": "code",
        "id": "sHpxOuJ7-26g",
        "outputId": "5edce2f9-a33c-48f2-f51a-763f8fbdecb8"
      },
      "outputs": [
        {
          "data": {
            "text/plain": [
              "array([[10.,  3.],\n",
              "       [ 0.,  4.],\n",
              "       [ 5.,  3.],\n",
              "       [ 5.,  3.]])"
            ]
          },
          "execution_count": 3,
          "metadata": {},
          "output_type": "execute_result"
        }
      ],
      "source": [
        "X = np.array([[10, 3],\n",
        "              [0, 4],\n",
        "              [5, 3],\n",
        "             [np.nan, 3]])\n",
        "\n",
        "imputer = SimpleImputer(missing_values=np.nan,\n",
        "             strategy='mean')\n",
        "\n",
        "imputer.fit_transform(X)"
      ]
    },
    {
      "cell_type": "code",
      "execution_count": 4,
      "metadata": {
        "colab": {
          "base_uri": "https://localhost:8080/",
          "height": 85
        },
        "colab_type": "code",
        "id": "DsqbBpis-53U",
        "outputId": "22a0b93d-7ce4-4f45-f7b1-630d4a7fb85a"
      },
      "outputs": [
        {
          "data": {
            "text/plain": [
              "array([[12.  ,  5.  ],\n",
              "       [40.  ,  2.  ],\n",
              "       [ 5.  ,  5.  ],\n",
              "       [ 5.  ,  3.25]])"
            ]
          },
          "execution_count": 4,
          "metadata": {},
          "output_type": "execute_result"
        }
      ],
      "source": [
        "X_test = np.array([[12, 5],\n",
        "                   [40, 2],\n",
        "                   [5, 5],\n",
        "                   [np.nan, np.nan]])\n",
        "\n",
        "imputer.transform(X_test)"
      ]
    },
    {
      "cell_type": "markdown",
      "metadata": {
        "colab_type": "text",
        "id": "WbLbVBAs-_DQ"
      },
      "source": [
        "## 2. KNNImputer"
      ]
    },
    {
      "cell_type": "code",
      "execution_count": 5,
      "metadata": {
        "colab": {},
        "colab_type": "code",
        "id": "0FrFu7JW-7Y_"
      },
      "outputs": [],
      "source": [
        "from sklearn.impute import KNNImputer"
      ]
    },
    {
      "cell_type": "code",
      "execution_count": 6,
      "metadata": {
        "colab": {
          "base_uri": "https://localhost:8080/",
          "height": 85
        },
        "colab_type": "code",
        "id": "EiGkCzvr_BcW",
        "outputId": "af93e8ac-c19c-456f-b360-b2fc5cb876c8"
      },
      "outputs": [
        {
          "data": {
            "text/plain": [
              "array([[  1., 100.],\n",
              "       [  2.,  30.],\n",
              "       [  3.,  15.],\n",
              "       [  3.,  20.]])"
            ]
          },
          "execution_count": 6,
          "metadata": {},
          "output_type": "execute_result"
        }
      ],
      "source": [
        "X = np.array([[1, 100],\n",
        "             [2, 30],\n",
        "             [3, 15],\n",
        "             [np.nan, 20]])\n",
        "\n",
        "imputer = KNNImputer(n_neighbors=1)\n",
        "imputer.fit_transform(X)"
      ]
    },
    {
      "cell_type": "code",
      "execution_count": 7,
      "metadata": {
        "colab": {
          "base_uri": "https://localhost:8080/",
          "height": 34
        },
        "colab_type": "code",
        "id": "U4xbPUPN_DR4",
        "outputId": "99db28fd-47ff-4417-e505-bc343ba3e979"
      },
      "outputs": [
        {
          "data": {
            "text/plain": [
              "array([[ 2., 35.]])"
            ]
          },
          "execution_count": 7,
          "metadata": {},
          "output_type": "execute_result"
        }
      ],
      "source": [
        "X_test = np.array([[np.nan, 35]])\n",
        "\n",
        "imputer.transform(X_test)"
      ]
    },
    {
      "cell_type": "markdown",
      "metadata": {
        "colab_type": "text",
        "id": "2xv7YjzN_JV0"
      },
      "source": [
        "## 3. MissingIndicator"
      ]
    },
    {
      "cell_type": "code",
      "execution_count": 8,
      "metadata": {
        "colab": {},
        "colab_type": "code",
        "id": "Mh6FbZQp_HcC"
      },
      "outputs": [],
      "source": [
        "from sklearn.impute import MissingIndicator\n",
        "from sklearn.pipeline import make_union"
      ]
    },
    {
      "cell_type": "code",
      "execution_count": 9,
      "metadata": {
        "colab": {
          "base_uri": "https://localhost:8080/",
          "height": 85
        },
        "colab_type": "code",
        "id": "w2gNzXPt_Ls7",
        "outputId": "aa4e0f44-383d-4d76-f6bc-5e583596a7f8"
      },
      "outputs": [
        {
          "data": {
            "text/plain": [
              "array([[False, False],\n",
              "       [False, False],\n",
              "       [False, False],\n",
              "       [ True,  True]])"
            ]
          },
          "execution_count": 9,
          "metadata": {},
          "output_type": "execute_result"
        }
      ],
      "source": [
        "X = np.array([[1, 100],\n",
        "             [2, 30],\n",
        "             [3, 15],\n",
        "             [np.nan, np.nan]])\n",
        "\n",
        "MissingIndicator().fit_transform(X)"
      ]
    },
    {
      "cell_type": "code",
      "execution_count": 10,
      "metadata": {
        "colab": {
          "base_uri": "https://localhost:8080/",
          "height": 85
        },
        "colab_type": "code",
        "id": "do41O4gq_POw",
        "outputId": "8690f814-9fe9-493b-9321-7b4e92bd718b"
      },
      "outputs": [
        {
          "data": {
            "text/plain": [
              "array([[  1., 100.,   0.,   0.],\n",
              "       [  2.,  30.,   0.,   0.],\n",
              "       [  3.,  15.,   0.,   0.],\n",
              "       [-99., -99.,   1.,   1.]])"
            ]
          },
          "execution_count": 10,
          "metadata": {},
          "output_type": "execute_result"
        }
      ],
      "source": [
        "pipeline = make_union(SimpleImputer(strategy='constant', fill_value=-99),\n",
        "                     MissingIndicator())\n",
        "\n",
        "pipeline.fit_transform(X)"
      ]
    },
    {
      "cell_type": "markdown",
      "metadata": {},
      "source": [
        "Utile pour chercher un type d'échentillon, par exemple, un membre d'équipage qui se serrait perdu dans la base de donnée des voyageurs. Avec make Union, on peut faire simultanément appliqué deux transformers."
      ]
    },
    {
      "cell_type": "markdown",
      "metadata": {},
      "source": [
        "Technique d'un datascientiste est d'exploiter le manque d'information pour voir si ça peut donner une info supplémentaire à notre model."
      ]
    },
    {
      "cell_type": "markdown",
      "metadata": {
        "colab_type": "text",
        "id": "lMpfKgv5_WSH"
      },
      "source": [
        "## 4. Application"
      ]
    },
    {
      "cell_type": "code",
      "execution_count": 11,
      "metadata": {
        "colab": {},
        "colab_type": "code",
        "id": "DHHZ8lZ3_Pxo"
      },
      "outputs": [],
      "source": [
        "from sklearn.pipeline import make_pipeline\n",
        "from sklearn.model_selection import GridSearchCV, train_test_split"
      ]
    },
    {
      "cell_type": "code",
      "execution_count": 12,
      "metadata": {
        "colab": {},
        "colab_type": "code",
        "id": "leX4JMND_fmM"
      },
      "outputs": [],
      "source": [
        "titanic = sns.load_dataset('titanic')\n",
        "X = titanic[['pclass', 'age']]\n",
        "y = titanic['survived']\n",
        "\n",
        "X_train, X_test, y_train, y_test = train_test_split(X, y, random_state=0)"
      ]
    },
    {
      "cell_type": "code",
      "execution_count": 13,
      "metadata": {
        "colab": {
          "base_uri": "https://localhost:8080/",
          "height": 34
        },
        "colab_type": "code",
        "id": "v8kfddha_iEw",
        "outputId": "034f6949-4599-4919-c4e8-8b71553017ab"
      },
      "outputs": [
        {
          "data": {
            "text/plain": [
              "{'knnimputer__n_neighbors': 4}"
            ]
          },
          "execution_count": 13,
          "metadata": {},
          "output_type": "execute_result"
        }
      ],
      "source": [
        "model = make_pipeline(KNNImputer(), SGDClassifier())\n",
        "\n",
        "params = {'knnimputer__n_neighbors' : [1, 2, 3, 4]}\n",
        "\n",
        "grid = GridSearchCV(model, param_grid=params, cv=5)\n",
        "\n",
        "grid.fit(X_train, y_train)\n",
        "grid.best_params_"
      ]
    },
    {
      "cell_type": "code",
      "execution_count": 0,
      "metadata": {
        "colab": {},
        "colab_type": "code",
        "id": "SoodwQi1_tm0"
      },
      "outputs": [],
      "source": []
    }
  ],
  "metadata": {
    "colab": {
      "authorship_tag": "ABX9TyP1BN6pc/YRZSMbpLSGzw6t",
      "include_colab_link": true,
      "name": "Untitled20.ipynb",
      "provenance": []
    },
    "kernelspec": {
      "display_name": "base",
      "language": "python",
      "name": "python3"
    },
    "language_info": {
      "codemirror_mode": {
        "name": "ipython",
        "version": 3
      },
      "file_extension": ".py",
      "mimetype": "text/x-python",
      "name": "python",
      "nbconvert_exporter": "python",
      "pygments_lexer": "ipython3",
      "version": "3.12.3"
    }
  },
  "nbformat": 4,
  "nbformat_minor": 0
}
